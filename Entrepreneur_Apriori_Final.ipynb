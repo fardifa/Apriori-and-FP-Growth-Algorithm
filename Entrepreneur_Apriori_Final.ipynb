{
  "nbformat": 4,
  "nbformat_minor": 0,
  "metadata": {
    "colab": {
      "name": "Entrepreneur_Apriori_Final.ipynb",
      "provenance": [],
      "authorship_tag": "ABX9TyMGDYhhoJhftbE6JdIne4lv",
      "include_colab_link": true
    },
    "kernelspec": {
      "display_name": "Python 3",
      "name": "python3"
    },
    "language_info": {
      "name": "python"
    }
  },
  "cells": [
    {
      "cell_type": "markdown",
      "metadata": {
        "id": "view-in-github",
        "colab_type": "text"
      },
      "source": [
        "<a href=\"https://colab.research.google.com/github/fardifa/Apriori-and-FP-Growth-Algorithm/blob/main/Entrepreneur_Apriori_Final.ipynb\" target=\"_parent\"><img src=\"https://colab.research.google.com/assets/colab-badge.svg\" alt=\"Open In Colab\"/></a>"
      ]
    },
    {
      "cell_type": "markdown",
      "metadata": {
        "id": "I7amYR3NQVCf"
      },
      "source": [
        "#Import the CSV File"
      ]
    },
    {
      "cell_type": "code",
      "metadata": {
        "id": "wG5rxzRfpUi1"
      },
      "source": [
        "import pandas as pd\n",
        "import numpy as np"
      ],
      "execution_count": 1,
      "outputs": []
    },
    {
      "cell_type": "code",
      "metadata": {
        "colab": {
          "resources": {
            "http://localhost:8080/nbextensions/google.colab/files.js": {
              "data": "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",
              "ok": true,
              "headers": [
                [
                  "content-type",
                  "application/javascript"
                ]
              ],
              "status": 200,
              "status_text": ""
            }
          },
          "base_uri": "https://localhost:8080/",
          "height": 39
        },
        "id": "-0u9SyjapfVq",
        "outputId": "dd8cd788-435f-462f-b29b-004da76818a6"
      },
      "source": [
        "from google.colab import files\n",
        "uploaded = files.upload()"
      ],
      "execution_count": 2,
      "outputs": [
        {
          "output_type": "display_data",
          "data": {
            "text/html": [
              "\n",
              "     <input type=\"file\" id=\"files-cbaaff50-9cd3-498f-b4a3-d0202d419fd7\" name=\"files[]\" multiple disabled\n",
              "        style=\"border:none\" />\n",
              "     <output id=\"result-cbaaff50-9cd3-498f-b4a3-d0202d419fd7\">\n",
              "      Upload widget is only available when the cell has been executed in the\n",
              "      current browser session. Please rerun this cell to enable.\n",
              "      </output>\n",
              "      <script src=\"/nbextensions/google.colab/files.js\"></script> "
            ],
            "text/plain": [
              "<IPython.core.display.HTML object>"
            ]
          },
          "metadata": {
            "tags": []
          }
        }
      ]
    },
    {
      "cell_type": "code",
      "metadata": {
        "id": "5mESkv0zpsTB"
      },
      "source": [
        "store_data = pd.read_csv('data.csv')"
      ],
      "execution_count": 3,
      "outputs": []
    },
    {
      "cell_type": "code",
      "metadata": {
        "colab": {
          "base_uri": "https://localhost:8080/"
        },
        "id": "RIDVRGuJpvjD",
        "outputId": "3e87106b-54c0-45dd-83f4-027228f7735e"
      },
      "source": [
        "store_data.shape"
      ],
      "execution_count": 4,
      "outputs": [
        {
          "output_type": "execute_result",
          "data": {
            "text/plain": [
              "(219, 17)"
            ]
          },
          "metadata": {
            "tags": []
          },
          "execution_count": 4
        }
      ]
    },
    {
      "cell_type": "code",
      "metadata": {
        "colab": {
          "base_uri": "https://localhost:8080/"
        },
        "id": "VrRdYyGGpy34",
        "outputId": "516eef5e-d2f4-4375-e956-6bca0543dd1d"
      },
      "source": [
        "store_data.shape"
      ],
      "execution_count": 5,
      "outputs": [
        {
          "output_type": "execute_result",
          "data": {
            "text/plain": [
              "(219, 17)"
            ]
          },
          "metadata": {
            "tags": []
          },
          "execution_count": 5
        }
      ]
    },
    {
      "cell_type": "markdown",
      "metadata": {
        "id": "G-qFzEKCQdc4"
      },
      "source": [
        "#Data Preprocessing"
      ]
    },
    {
      "cell_type": "code",
      "metadata": {
        "id": "nJHP2ZrfPjlU"
      },
      "source": [
        "data = store_data.drop(columns=['Age','Perseverance', 'DesireToTakeInitiative','Competitiveness','SelfReliance','StrongNeedToAchieve','SelfConfidence','GoodPhysicalHealth','City','Influenced','ReasonsForLack','IndividualProject','MentalDisorder','KeyTraits'])"
      ],
      "execution_count": 6,
      "outputs": []
    },
    {
      "cell_type": "code",
      "metadata": {
        "id": "6wTEESysRGtq"
      },
      "source": [
        "#data['y'] = store_data['y'].map({'1':'yes', '0':'no'})"
      ],
      "execution_count": 7,
      "outputs": []
    },
    {
      "cell_type": "code",
      "metadata": {
        "colab": {
          "base_uri": "https://localhost:8080/",
          "height": 203
        },
        "id": "grI_ZCjbWw-T",
        "outputId": "69764ac5-d71e-4f34-984c-6b059aa60006"
      },
      "source": [
        "data = data[data.y != 'no']\n",
        "data.head()"
      ],
      "execution_count": 8,
      "outputs": [
        {
          "output_type": "execute_result",
          "data": {
            "text/html": [
              "<div>\n",
              "<style scoped>\n",
              "    .dataframe tbody tr th:only-of-type {\n",
              "        vertical-align: middle;\n",
              "    }\n",
              "\n",
              "    .dataframe tbody tr th {\n",
              "        vertical-align: top;\n",
              "    }\n",
              "\n",
              "    .dataframe thead th {\n",
              "        text-align: right;\n",
              "    }\n",
              "</style>\n",
              "<table border=\"1\" class=\"dataframe\">\n",
              "  <thead>\n",
              "    <tr style=\"text-align: right;\">\n",
              "      <th></th>\n",
              "      <th>EducationSector</th>\n",
              "      <th>Gender</th>\n",
              "      <th>y</th>\n",
              "    </tr>\n",
              "  </thead>\n",
              "  <tbody>\n",
              "    <tr>\n",
              "      <th>0</th>\n",
              "      <td>Engineering Sciences</td>\n",
              "      <td>Male</td>\n",
              "      <td>yes</td>\n",
              "    </tr>\n",
              "    <tr>\n",
              "      <th>4</th>\n",
              "      <td>Engineering Sciences</td>\n",
              "      <td>Male</td>\n",
              "      <td>yes</td>\n",
              "    </tr>\n",
              "    <tr>\n",
              "      <th>5</th>\n",
              "      <td>Engineering Sciences</td>\n",
              "      <td>Male</td>\n",
              "      <td>yes</td>\n",
              "    </tr>\n",
              "    <tr>\n",
              "      <th>6</th>\n",
              "      <td>Engineering Sciences</td>\n",
              "      <td>Male</td>\n",
              "      <td>yes</td>\n",
              "    </tr>\n",
              "    <tr>\n",
              "      <th>9</th>\n",
              "      <td>Engineering Sciences</td>\n",
              "      <td>Male</td>\n",
              "      <td>yes</td>\n",
              "    </tr>\n",
              "  </tbody>\n",
              "</table>\n",
              "</div>"
            ],
            "text/plain": [
              "        EducationSector Gender    y\n",
              "0  Engineering Sciences   Male  yes\n",
              "4  Engineering Sciences   Male  yes\n",
              "5  Engineering Sciences   Male  yes\n",
              "6  Engineering Sciences   Male  yes\n",
              "9  Engineering Sciences   Male  yes"
            ]
          },
          "metadata": {
            "tags": []
          },
          "execution_count": 8
        }
      ]
    },
    {
      "cell_type": "code",
      "metadata": {
        "id": "nbK9jt_op3Fy"
      },
      "source": [
        "transactions = []\n",
        "for sublist in data.values.tolist():\n",
        "  clean_sublist = [item for item in sublist]\n",
        "  transactions.append(clean_sublist)"
      ],
      "execution_count": 9,
      "outputs": []
    },
    {
      "cell_type": "code",
      "metadata": {
        "colab": {
          "base_uri": "https://localhost:8080/"
        },
        "id": "jMa6hNHcp45x",
        "outputId": "425faadb-0c26-4272-fa4b-85bc9ca594f7"
      },
      "source": [
        "transactions"
      ],
      "execution_count": 10,
      "outputs": [
        {
          "output_type": "execute_result",
          "data": {
            "text/plain": [
              "[['Engineering Sciences', 'Male', 'yes'],\n",
              " ['Engineering Sciences', 'Male', 'yes'],\n",
              " ['Engineering Sciences', 'Male', 'yes'],\n",
              " ['Engineering Sciences', 'Male', 'yes'],\n",
              " ['Engineering Sciences', 'Male', 'yes'],\n",
              " ['Economic Sciences, Business Studies, Commerce and Law', 'Male', 'yes'],\n",
              " ['Engineering Sciences', 'Male', 'yes'],\n",
              " ['Others', 'Male', 'yes'],\n",
              " ['Engineering Sciences', 'Male', 'yes'],\n",
              " ['Engineering Sciences', 'Male', 'yes'],\n",
              " ['Engineering Sciences', 'Male', 'yes'],\n",
              " ['Economic Sciences, Business Studies, Commerce and Law', 'Male', 'yes'],\n",
              " ['Art, Music or Design', 'Male', 'yes'],\n",
              " ['Economic Sciences, Business Studies, Commerce and Law', 'Female', 'yes'],\n",
              " ['Engineering Sciences', 'Male', 'yes'],\n",
              " ['Economic Sciences, Business Studies, Commerce and Law', 'Male', 'yes'],\n",
              " ['Humanities and Social Sciences', 'Male', 'yes'],\n",
              " ['Engineering Sciences', 'Male', 'yes'],\n",
              " ['Economic Sciences, Business Studies, Commerce and Law', 'Male', 'yes'],\n",
              " ['Engineering Sciences', 'Male', 'yes'],\n",
              " ['Engineering Sciences', 'Male', 'yes'],\n",
              " ['Engineering Sciences', 'Female', 'yes'],\n",
              " ['Engineering Sciences', 'Male', 'yes'],\n",
              " ['Medicine, Health Sciences', 'Female', 'yes'],\n",
              " ['Engineering Sciences', 'Male', 'yes'],\n",
              " ['Engineering Sciences', 'Female', 'yes'],\n",
              " ['Engineering Sciences', 'Male', 'yes'],\n",
              " ['Engineering Sciences', 'Male', 'yes'],\n",
              " ['Engineering Sciences', 'Male', 'yes'],\n",
              " ['Engineering Sciences', 'Female', 'yes'],\n",
              " ['Engineering Sciences', 'Male', 'yes'],\n",
              " ['Engineering Sciences', 'Male', 'yes'],\n",
              " ['Engineering Sciences', 'Male', 'yes'],\n",
              " ['Art, Music or Design', 'Male', 'yes'],\n",
              " ['Engineering Sciences', 'Male', 'yes'],\n",
              " ['Engineering Sciences', 'Male', 'yes'],\n",
              " ['Engineering Sciences', 'Male', 'yes'],\n",
              " ['Engineering Sciences', 'Male', 'yes'],\n",
              " ['Engineering Sciences', 'Male', 'yes'],\n",
              " ['Engineering Sciences', 'Male', 'yes'],\n",
              " ['Others', 'Female', 'yes'],\n",
              " ['Engineering Sciences', 'Male', 'yes'],\n",
              " ['Engineering Sciences', 'Male', 'yes'],\n",
              " ['Humanities and Social Sciences', 'Male', 'yes'],\n",
              " ['Medicine, Health Sciences', 'Male', 'yes'],\n",
              " ['Engineering Sciences', 'Male', 'yes'],\n",
              " ['Others', 'Male', 'yes'],\n",
              " ['Humanities and Social Sciences', 'Male', 'yes'],\n",
              " ['Economic Sciences, Business Studies, Commerce and Law', 'Male', 'yes'],\n",
              " ['Humanities and Social Sciences', 'Female', 'yes'],\n",
              " ['Engineering Sciences', 'Male', 'yes'],\n",
              " ['Medicine, Health Sciences', 'Male', 'yes'],\n",
              " ['Engineering Sciences', 'Female', 'yes'],\n",
              " ['Engineering Sciences', 'Female', 'yes'],\n",
              " ['Engineering Sciences', 'Male', 'yes'],\n",
              " ['Engineering Sciences', 'Male', 'yes'],\n",
              " ['Engineering Sciences', 'Male', 'yes'],\n",
              " ['Engineering Sciences', 'Male', 'yes'],\n",
              " ['Economic Sciences, Business Studies, Commerce and Law', 'Male', 'yes'],\n",
              " ['Art, Music or Design', 'Female', 'yes'],\n",
              " ['Others', 'Female', 'yes'],\n",
              " ['Teaching Degree (e.g., B.Ed)', 'Male', 'yes'],\n",
              " ['Teaching Degree (e.g., B.Ed)', 'Male', 'yes'],\n",
              " ['Art, Music or Design', 'Male', 'yes'],\n",
              " ['Others', 'Male', 'yes'],\n",
              " ['Engineering Sciences', 'Male', 'yes'],\n",
              " ['Art, Music or Design', 'Female', 'yes'],\n",
              " ['Humanities and Social Sciences', 'Female', 'yes'],\n",
              " ['Engineering Sciences', 'Male', 'yes'],\n",
              " ['Others', 'Male', 'yes'],\n",
              " ['Engineering Sciences', 'Male', 'yes'],\n",
              " ['Economic Sciences, Business Studies, Commerce and Law', 'Male', 'yes'],\n",
              " ['Art, Music or Design', 'Male', 'yes'],\n",
              " ['Others', 'Female', 'yes'],\n",
              " ['Others', 'Female', 'yes'],\n",
              " ['Art, Music or Design', 'Male', 'yes'],\n",
              " ['Engineering Sciences', 'Male', 'yes'],\n",
              " ['Engineering Sciences', 'Male', 'yes'],\n",
              " ['Engineering Sciences', 'Male', 'yes'],\n",
              " ['Engineering Sciences', 'Male', 'yes'],\n",
              " ['Engineering Sciences', 'Male', 'yes'],\n",
              " ['Art, Music or Design', 'Female', 'yes'],\n",
              " ['Engineering Sciences', 'Male', 'yes'],\n",
              " ['Engineering Sciences', 'Female', 'yes'],\n",
              " ['Engineering Sciences', 'Male', 'yes'],\n",
              " ['Engineering Sciences', 'Female', 'yes'],\n",
              " ['Economic Sciences, Business Studies, Commerce and Law', 'Male', 'yes'],\n",
              " ['Art, Music or Design', 'Female', 'yes'],\n",
              " ['Engineering Sciences', 'Male', 'yes'],\n",
              " ['Engineering Sciences', 'Female', 'yes'],\n",
              " ['Engineering Sciences', 'Male', 'yes']]"
            ]
          },
          "metadata": {
            "tags": []
          },
          "execution_count": 10
        }
      ]
    },
    {
      "cell_type": "code",
      "metadata": {
        "colab": {
          "base_uri": "https://localhost:8080/",
          "height": 434
        },
        "id": "9LtKLerDp7ik",
        "outputId": "00ff4f97-99a8-405e-934c-1e7dbf6bae54"
      },
      "source": [
        "import pandas as pd\n",
        "from mlxtend.preprocessing import TransactionEncoder\n",
        "\n",
        "te = TransactionEncoder()\n",
        "te_ary = te.fit(transactions).transform(transactions)\n",
        "df = pd.DataFrame(te_ary, columns=te.columns_)\n",
        "df"
      ],
      "execution_count": 11,
      "outputs": [
        {
          "output_type": "execute_result",
          "data": {
            "text/html": [
              "<div>\n",
              "<style scoped>\n",
              "    .dataframe tbody tr th:only-of-type {\n",
              "        vertical-align: middle;\n",
              "    }\n",
              "\n",
              "    .dataframe tbody tr th {\n",
              "        vertical-align: top;\n",
              "    }\n",
              "\n",
              "    .dataframe thead th {\n",
              "        text-align: right;\n",
              "    }\n",
              "</style>\n",
              "<table border=\"1\" class=\"dataframe\">\n",
              "  <thead>\n",
              "    <tr style=\"text-align: right;\">\n",
              "      <th></th>\n",
              "      <th>Art, Music or Design</th>\n",
              "      <th>Economic Sciences, Business Studies, Commerce and Law</th>\n",
              "      <th>Engineering Sciences</th>\n",
              "      <th>Female</th>\n",
              "      <th>Humanities and Social Sciences</th>\n",
              "      <th>Male</th>\n",
              "      <th>Medicine, Health Sciences</th>\n",
              "      <th>Others</th>\n",
              "      <th>Teaching Degree (e.g., B.Ed)</th>\n",
              "      <th>yes</th>\n",
              "    </tr>\n",
              "  </thead>\n",
              "  <tbody>\n",
              "    <tr>\n",
              "      <th>0</th>\n",
              "      <td>False</td>\n",
              "      <td>False</td>\n",
              "      <td>True</td>\n",
              "      <td>False</td>\n",
              "      <td>False</td>\n",
              "      <td>True</td>\n",
              "      <td>False</td>\n",
              "      <td>False</td>\n",
              "      <td>False</td>\n",
              "      <td>True</td>\n",
              "    </tr>\n",
              "    <tr>\n",
              "      <th>1</th>\n",
              "      <td>False</td>\n",
              "      <td>False</td>\n",
              "      <td>True</td>\n",
              "      <td>False</td>\n",
              "      <td>False</td>\n",
              "      <td>True</td>\n",
              "      <td>False</td>\n",
              "      <td>False</td>\n",
              "      <td>False</td>\n",
              "      <td>True</td>\n",
              "    </tr>\n",
              "    <tr>\n",
              "      <th>2</th>\n",
              "      <td>False</td>\n",
              "      <td>False</td>\n",
              "      <td>True</td>\n",
              "      <td>False</td>\n",
              "      <td>False</td>\n",
              "      <td>True</td>\n",
              "      <td>False</td>\n",
              "      <td>False</td>\n",
              "      <td>False</td>\n",
              "      <td>True</td>\n",
              "    </tr>\n",
              "    <tr>\n",
              "      <th>3</th>\n",
              "      <td>False</td>\n",
              "      <td>False</td>\n",
              "      <td>True</td>\n",
              "      <td>False</td>\n",
              "      <td>False</td>\n",
              "      <td>True</td>\n",
              "      <td>False</td>\n",
              "      <td>False</td>\n",
              "      <td>False</td>\n",
              "      <td>True</td>\n",
              "    </tr>\n",
              "    <tr>\n",
              "      <th>4</th>\n",
              "      <td>False</td>\n",
              "      <td>False</td>\n",
              "      <td>True</td>\n",
              "      <td>False</td>\n",
              "      <td>False</td>\n",
              "      <td>True</td>\n",
              "      <td>False</td>\n",
              "      <td>False</td>\n",
              "      <td>False</td>\n",
              "      <td>True</td>\n",
              "    </tr>\n",
              "    <tr>\n",
              "      <th>...</th>\n",
              "      <td>...</td>\n",
              "      <td>...</td>\n",
              "      <td>...</td>\n",
              "      <td>...</td>\n",
              "      <td>...</td>\n",
              "      <td>...</td>\n",
              "      <td>...</td>\n",
              "      <td>...</td>\n",
              "      <td>...</td>\n",
              "      <td>...</td>\n",
              "    </tr>\n",
              "    <tr>\n",
              "      <th>86</th>\n",
              "      <td>False</td>\n",
              "      <td>True</td>\n",
              "      <td>False</td>\n",
              "      <td>False</td>\n",
              "      <td>False</td>\n",
              "      <td>True</td>\n",
              "      <td>False</td>\n",
              "      <td>False</td>\n",
              "      <td>False</td>\n",
              "      <td>True</td>\n",
              "    </tr>\n",
              "    <tr>\n",
              "      <th>87</th>\n",
              "      <td>True</td>\n",
              "      <td>False</td>\n",
              "      <td>False</td>\n",
              "      <td>True</td>\n",
              "      <td>False</td>\n",
              "      <td>False</td>\n",
              "      <td>False</td>\n",
              "      <td>False</td>\n",
              "      <td>False</td>\n",
              "      <td>True</td>\n",
              "    </tr>\n",
              "    <tr>\n",
              "      <th>88</th>\n",
              "      <td>False</td>\n",
              "      <td>False</td>\n",
              "      <td>True</td>\n",
              "      <td>False</td>\n",
              "      <td>False</td>\n",
              "      <td>True</td>\n",
              "      <td>False</td>\n",
              "      <td>False</td>\n",
              "      <td>False</td>\n",
              "      <td>True</td>\n",
              "    </tr>\n",
              "    <tr>\n",
              "      <th>89</th>\n",
              "      <td>False</td>\n",
              "      <td>False</td>\n",
              "      <td>True</td>\n",
              "      <td>True</td>\n",
              "      <td>False</td>\n",
              "      <td>False</td>\n",
              "      <td>False</td>\n",
              "      <td>False</td>\n",
              "      <td>False</td>\n",
              "      <td>True</td>\n",
              "    </tr>\n",
              "    <tr>\n",
              "      <th>90</th>\n",
              "      <td>False</td>\n",
              "      <td>False</td>\n",
              "      <td>True</td>\n",
              "      <td>False</td>\n",
              "      <td>False</td>\n",
              "      <td>True</td>\n",
              "      <td>False</td>\n",
              "      <td>False</td>\n",
              "      <td>False</td>\n",
              "      <td>True</td>\n",
              "    </tr>\n",
              "  </tbody>\n",
              "</table>\n",
              "<p>91 rows × 10 columns</p>\n",
              "</div>"
            ],
            "text/plain": [
              "    Art, Music or Design  ...   yes\n",
              "0                  False  ...  True\n",
              "1                  False  ...  True\n",
              "2                  False  ...  True\n",
              "3                  False  ...  True\n",
              "4                  False  ...  True\n",
              "..                   ...  ...   ...\n",
              "86                 False  ...  True\n",
              "87                  True  ...  True\n",
              "88                 False  ...  True\n",
              "89                 False  ...  True\n",
              "90                 False  ...  True\n",
              "\n",
              "[91 rows x 10 columns]"
            ]
          },
          "metadata": {
            "tags": []
          },
          "execution_count": 11
        }
      ]
    },
    {
      "cell_type": "markdown",
      "metadata": {
        "id": "JcN4xvWWQiKo"
      },
      "source": [
        "#Apriori Algorithm Implementation"
      ]
    },
    {
      "cell_type": "code",
      "metadata": {
        "colab": {
          "base_uri": "https://localhost:8080/"
        },
        "id": "XUqJWZNhqMzx",
        "outputId": "33a750f6-a3ae-470a-813a-7378c5acc875"
      },
      "source": [
        "!pip install mlxtend --upgrade --no-deps"
      ],
      "execution_count": 12,
      "outputs": [
        {
          "output_type": "stream",
          "text": [
            "Requirement already satisfied: mlxtend in /usr/local/lib/python3.7/dist-packages (0.18.0)\n"
          ],
          "name": "stdout"
        }
      ]
    },
    {
      "cell_type": "code",
      "metadata": {
        "colab": {
          "base_uri": "https://localhost:8080/",
          "height": 326
        },
        "id": "eqx9FWnoqA1c",
        "outputId": "5cb0d5f8-bd64-432b-b848-3bd2e6ee4d92"
      },
      "source": [
        "from mlxtend.frequent_patterns import apriori\n",
        "\n",
        "frequent_itemsets = apriori(df, min_support=0.1, use_colnames=True)\n",
        "\n",
        "frequent_itemsets "
      ],
      "execution_count": 13,
      "outputs": [
        {
          "output_type": "execute_result",
          "data": {
            "text/html": [
              "<div>\n",
              "<style scoped>\n",
              "    .dataframe tbody tr th:only-of-type {\n",
              "        vertical-align: middle;\n",
              "    }\n",
              "\n",
              "    .dataframe tbody tr th {\n",
              "        vertical-align: top;\n",
              "    }\n",
              "\n",
              "    .dataframe thead th {\n",
              "        text-align: right;\n",
              "    }\n",
              "</style>\n",
              "<table border=\"1\" class=\"dataframe\">\n",
              "  <thead>\n",
              "    <tr style=\"text-align: right;\">\n",
              "      <th></th>\n",
              "      <th>support</th>\n",
              "      <th>itemsets</th>\n",
              "    </tr>\n",
              "  </thead>\n",
              "  <tbody>\n",
              "    <tr>\n",
              "      <th>0</th>\n",
              "      <td>0.604396</td>\n",
              "      <td>(Engineering Sciences)</td>\n",
              "    </tr>\n",
              "    <tr>\n",
              "      <th>1</th>\n",
              "      <td>0.219780</td>\n",
              "      <td>(Female)</td>\n",
              "    </tr>\n",
              "    <tr>\n",
              "      <th>2</th>\n",
              "      <td>0.780220</td>\n",
              "      <td>(Male)</td>\n",
              "    </tr>\n",
              "    <tr>\n",
              "      <th>3</th>\n",
              "      <td>1.000000</td>\n",
              "      <td>(yes)</td>\n",
              "    </tr>\n",
              "    <tr>\n",
              "      <th>4</th>\n",
              "      <td>0.516484</td>\n",
              "      <td>(Engineering Sciences, Male)</td>\n",
              "    </tr>\n",
              "    <tr>\n",
              "      <th>5</th>\n",
              "      <td>0.604396</td>\n",
              "      <td>(yes, Engineering Sciences)</td>\n",
              "    </tr>\n",
              "    <tr>\n",
              "      <th>6</th>\n",
              "      <td>0.219780</td>\n",
              "      <td>(yes, Female)</td>\n",
              "    </tr>\n",
              "    <tr>\n",
              "      <th>7</th>\n",
              "      <td>0.780220</td>\n",
              "      <td>(yes, Male)</td>\n",
              "    </tr>\n",
              "    <tr>\n",
              "      <th>8</th>\n",
              "      <td>0.516484</td>\n",
              "      <td>(yes, Engineering Sciences, Male)</td>\n",
              "    </tr>\n",
              "  </tbody>\n",
              "</table>\n",
              "</div>"
            ],
            "text/plain": [
              "    support                           itemsets\n",
              "0  0.604396             (Engineering Sciences)\n",
              "1  0.219780                           (Female)\n",
              "2  0.780220                             (Male)\n",
              "3  1.000000                              (yes)\n",
              "4  0.516484       (Engineering Sciences, Male)\n",
              "5  0.604396        (yes, Engineering Sciences)\n",
              "6  0.219780                      (yes, Female)\n",
              "7  0.780220                        (yes, Male)\n",
              "8  0.516484  (yes, Engineering Sciences, Male)"
            ]
          },
          "metadata": {
            "tags": []
          },
          "execution_count": 13
        }
      ]
    },
    {
      "cell_type": "code",
      "metadata": {
        "colab": {
          "base_uri": "https://localhost:8080/",
          "height": 480
        },
        "id": "jdmyB4U6qetL",
        "outputId": "12f10d64-4afb-4196-bbfb-4b606b4eafdc"
      },
      "source": [
        "from mlxtend.frequent_patterns import association_rules\n",
        "\n",
        "association_rules(frequent_itemsets, metric=\"confidence\", min_threshold=0.2)"
      ],
      "execution_count": 14,
      "outputs": [
        {
          "output_type": "execute_result",
          "data": {
            "text/html": [
              "<div>\n",
              "<style scoped>\n",
              "    .dataframe tbody tr th:only-of-type {\n",
              "        vertical-align: middle;\n",
              "    }\n",
              "\n",
              "    .dataframe tbody tr th {\n",
              "        vertical-align: top;\n",
              "    }\n",
              "\n",
              "    .dataframe thead th {\n",
              "        text-align: right;\n",
              "    }\n",
              "</style>\n",
              "<table border=\"1\" class=\"dataframe\">\n",
              "  <thead>\n",
              "    <tr style=\"text-align: right;\">\n",
              "      <th></th>\n",
              "      <th>antecedents</th>\n",
              "      <th>consequents</th>\n",
              "      <th>antecedent support</th>\n",
              "      <th>consequent support</th>\n",
              "      <th>support</th>\n",
              "      <th>confidence</th>\n",
              "      <th>lift</th>\n",
              "      <th>leverage</th>\n",
              "      <th>conviction</th>\n",
              "    </tr>\n",
              "  </thead>\n",
              "  <tbody>\n",
              "    <tr>\n",
              "      <th>0</th>\n",
              "      <td>(Engineering Sciences)</td>\n",
              "      <td>(Male)</td>\n",
              "      <td>0.604396</td>\n",
              "      <td>0.780220</td>\n",
              "      <td>0.516484</td>\n",
              "      <td>0.854545</td>\n",
              "      <td>1.095262</td>\n",
              "      <td>0.044922</td>\n",
              "      <td>1.510989</td>\n",
              "    </tr>\n",
              "    <tr>\n",
              "      <th>1</th>\n",
              "      <td>(Male)</td>\n",
              "      <td>(Engineering Sciences)</td>\n",
              "      <td>0.780220</td>\n",
              "      <td>0.604396</td>\n",
              "      <td>0.516484</td>\n",
              "      <td>0.661972</td>\n",
              "      <td>1.095262</td>\n",
              "      <td>0.044922</td>\n",
              "      <td>1.170330</td>\n",
              "    </tr>\n",
              "    <tr>\n",
              "      <th>2</th>\n",
              "      <td>(yes)</td>\n",
              "      <td>(Engineering Sciences)</td>\n",
              "      <td>1.000000</td>\n",
              "      <td>0.604396</td>\n",
              "      <td>0.604396</td>\n",
              "      <td>0.604396</td>\n",
              "      <td>1.000000</td>\n",
              "      <td>0.000000</td>\n",
              "      <td>1.000000</td>\n",
              "    </tr>\n",
              "    <tr>\n",
              "      <th>3</th>\n",
              "      <td>(Engineering Sciences)</td>\n",
              "      <td>(yes)</td>\n",
              "      <td>0.604396</td>\n",
              "      <td>1.000000</td>\n",
              "      <td>0.604396</td>\n",
              "      <td>1.000000</td>\n",
              "      <td>1.000000</td>\n",
              "      <td>0.000000</td>\n",
              "      <td>inf</td>\n",
              "    </tr>\n",
              "    <tr>\n",
              "      <th>4</th>\n",
              "      <td>(yes)</td>\n",
              "      <td>(Female)</td>\n",
              "      <td>1.000000</td>\n",
              "      <td>0.219780</td>\n",
              "      <td>0.219780</td>\n",
              "      <td>0.219780</td>\n",
              "      <td>1.000000</td>\n",
              "      <td>0.000000</td>\n",
              "      <td>1.000000</td>\n",
              "    </tr>\n",
              "    <tr>\n",
              "      <th>5</th>\n",
              "      <td>(Female)</td>\n",
              "      <td>(yes)</td>\n",
              "      <td>0.219780</td>\n",
              "      <td>1.000000</td>\n",
              "      <td>0.219780</td>\n",
              "      <td>1.000000</td>\n",
              "      <td>1.000000</td>\n",
              "      <td>0.000000</td>\n",
              "      <td>inf</td>\n",
              "    </tr>\n",
              "    <tr>\n",
              "      <th>6</th>\n",
              "      <td>(yes)</td>\n",
              "      <td>(Male)</td>\n",
              "      <td>1.000000</td>\n",
              "      <td>0.780220</td>\n",
              "      <td>0.780220</td>\n",
              "      <td>0.780220</td>\n",
              "      <td>1.000000</td>\n",
              "      <td>0.000000</td>\n",
              "      <td>1.000000</td>\n",
              "    </tr>\n",
              "    <tr>\n",
              "      <th>7</th>\n",
              "      <td>(Male)</td>\n",
              "      <td>(yes)</td>\n",
              "      <td>0.780220</td>\n",
              "      <td>1.000000</td>\n",
              "      <td>0.780220</td>\n",
              "      <td>1.000000</td>\n",
              "      <td>1.000000</td>\n",
              "      <td>0.000000</td>\n",
              "      <td>inf</td>\n",
              "    </tr>\n",
              "    <tr>\n",
              "      <th>8</th>\n",
              "      <td>(yes, Engineering Sciences)</td>\n",
              "      <td>(Male)</td>\n",
              "      <td>0.604396</td>\n",
              "      <td>0.780220</td>\n",
              "      <td>0.516484</td>\n",
              "      <td>0.854545</td>\n",
              "      <td>1.095262</td>\n",
              "      <td>0.044922</td>\n",
              "      <td>1.510989</td>\n",
              "    </tr>\n",
              "    <tr>\n",
              "      <th>9</th>\n",
              "      <td>(yes, Male)</td>\n",
              "      <td>(Engineering Sciences)</td>\n",
              "      <td>0.780220</td>\n",
              "      <td>0.604396</td>\n",
              "      <td>0.516484</td>\n",
              "      <td>0.661972</td>\n",
              "      <td>1.095262</td>\n",
              "      <td>0.044922</td>\n",
              "      <td>1.170330</td>\n",
              "    </tr>\n",
              "    <tr>\n",
              "      <th>10</th>\n",
              "      <td>(Engineering Sciences, Male)</td>\n",
              "      <td>(yes)</td>\n",
              "      <td>0.516484</td>\n",
              "      <td>1.000000</td>\n",
              "      <td>0.516484</td>\n",
              "      <td>1.000000</td>\n",
              "      <td>1.000000</td>\n",
              "      <td>0.000000</td>\n",
              "      <td>inf</td>\n",
              "    </tr>\n",
              "    <tr>\n",
              "      <th>11</th>\n",
              "      <td>(yes)</td>\n",
              "      <td>(Engineering Sciences, Male)</td>\n",
              "      <td>1.000000</td>\n",
              "      <td>0.516484</td>\n",
              "      <td>0.516484</td>\n",
              "      <td>0.516484</td>\n",
              "      <td>1.000000</td>\n",
              "      <td>0.000000</td>\n",
              "      <td>1.000000</td>\n",
              "    </tr>\n",
              "    <tr>\n",
              "      <th>12</th>\n",
              "      <td>(Engineering Sciences)</td>\n",
              "      <td>(yes, Male)</td>\n",
              "      <td>0.604396</td>\n",
              "      <td>0.780220</td>\n",
              "      <td>0.516484</td>\n",
              "      <td>0.854545</td>\n",
              "      <td>1.095262</td>\n",
              "      <td>0.044922</td>\n",
              "      <td>1.510989</td>\n",
              "    </tr>\n",
              "    <tr>\n",
              "      <th>13</th>\n",
              "      <td>(Male)</td>\n",
              "      <td>(yes, Engineering Sciences)</td>\n",
              "      <td>0.780220</td>\n",
              "      <td>0.604396</td>\n",
              "      <td>0.516484</td>\n",
              "      <td>0.661972</td>\n",
              "      <td>1.095262</td>\n",
              "      <td>0.044922</td>\n",
              "      <td>1.170330</td>\n",
              "    </tr>\n",
              "  </tbody>\n",
              "</table>\n",
              "</div>"
            ],
            "text/plain": [
              "                     antecedents  ... conviction\n",
              "0         (Engineering Sciences)  ...   1.510989\n",
              "1                         (Male)  ...   1.170330\n",
              "2                          (yes)  ...   1.000000\n",
              "3         (Engineering Sciences)  ...        inf\n",
              "4                          (yes)  ...   1.000000\n",
              "5                       (Female)  ...        inf\n",
              "6                          (yes)  ...   1.000000\n",
              "7                         (Male)  ...        inf\n",
              "8    (yes, Engineering Sciences)  ...   1.510989\n",
              "9                    (yes, Male)  ...   1.170330\n",
              "10  (Engineering Sciences, Male)  ...        inf\n",
              "11                         (yes)  ...   1.000000\n",
              "12        (Engineering Sciences)  ...   1.510989\n",
              "13                        (Male)  ...   1.170330\n",
              "\n",
              "[14 rows x 9 columns]"
            ]
          },
          "metadata": {
            "tags": []
          },
          "execution_count": 14
        }
      ]
    },
    {
      "cell_type": "code",
      "metadata": {
        "id": "NWMENcY0PExd"
      },
      "source": [
        ""
      ],
      "execution_count": null,
      "outputs": []
    }
  ]
}